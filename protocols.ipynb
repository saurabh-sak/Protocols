{
 "cells": [
  {
   "cell_type": "markdown",
   "metadata": {},
   "source": [
    "## Sequences in Python\n",
    "\n",
    "We talked about \"listiness\" earlier. Lets expand further on it.\n",
    "\n",
    "Python takes the idea of **protocols** very seriously. \n",
    "\n",
    "We have seen that a protocol, the idea that different objects of related types, carry out the same behavior, is key to making software general. For example, all shapes will have an `area` method, all animals will have a `call` method and so on.\n",
    "\n",
    "But one of the key aspects of python that make it a very natural language to program in is that this idea of polymorphism, this notion of protocols, pervades almost every built in class in the language. These classes may not be related (as different shapes are, and different animals are), but they still have the same methods, and thus can be used in the same ways.\n",
    "\n",
    "### Sequences\n",
    "\n",
    "To see this, let us look at many things that look like sequences in Python, but are otherwise different kinds of containers in python. All of these objects are said to follow the **sequence protocol**, which simply says, that one should (a) be able to loop over them, and (b) they should have a `len`gth."
   ]
  },
  {
   "cell_type": "code",
   "execution_count": 2,
   "metadata": {},
   "outputs": [],
   "source": [
    "lst = ['hi', 7, 'c', 2.2]\n",
    "mystring = 'Hi !'\n",
    "nums = [1, 4, 7, 9, 12]"
   ]
  },
  {
   "cell_type": "markdown",
   "metadata": {},
   "source": [
    "`nums` if a list of numbers. You can iterate over them in a list comprehension. So is `lst`, but of different things."
   ]
  },
  {
   "cell_type": "code",
   "execution_count": 3,
   "metadata": {},
   "outputs": [],
   "source": [
    "evens = [e for e in nums if e%2 == 0]"
   ]
  },
  {
   "cell_type": "code",
   "execution_count": 4,
   "metadata": {},
   "outputs": [
    {
     "name": "stdout",
     "output_type": "stream",
     "text": [
      "hi <class 'str'>\n",
      "7 <class 'int'>\n",
      "c <class 'str'>\n",
      "2.2 <class 'float'>\n"
     ]
    }
   ],
   "source": [
    "for element in lst:\n",
    "    print(element, type(element))"
   ]
  },
  {
   "cell_type": "markdown",
   "metadata": {},
   "source": [
    "But look here, the same loop can be used to iterate over strings."
   ]
  },
  {
   "cell_type": "code",
   "execution_count": 5,
   "metadata": {},
   "outputs": [
    {
     "name": "stdout",
     "output_type": "stream",
     "text": [
      "H\n",
      "i\n",
      " \n",
      "!\n"
     ]
    }
   ],
   "source": [
    "for character in mystring:\n",
    "    print(character)"
   ]
  },
  {
   "cell_type": "markdown",
   "metadata": {},
   "source": [
    "Each of these has a length:"
   ]
  },
  {
   "cell_type": "code",
   "execution_count": 6,
   "metadata": {},
   "outputs": [
    {
     "data": {
      "text/plain": [
       "4"
      ]
     },
     "execution_count": 6,
     "metadata": {},
     "output_type": "execute_result"
    }
   ],
   "source": [
    "len(lst)"
   ]
  },
  {
   "cell_type": "code",
   "execution_count": 7,
   "metadata": {},
   "outputs": [
    {
     "data": {
      "text/plain": [
       "2"
      ]
     },
     "execution_count": 7,
     "metadata": {},
     "output_type": "execute_result"
    }
   ],
   "source": [
    "len(evens)"
   ]
  },
  {
   "cell_type": "code",
   "execution_count": 8,
   "metadata": {},
   "outputs": [
    {
     "data": {
      "text/plain": [
       "4"
      ]
     },
     "execution_count": 8,
     "metadata": {},
     "output_type": "execute_result"
    }
   ],
   "source": [
    "len(mystring)"
   ]
  },
  {
   "cell_type": "markdown",
   "metadata": {},
   "source": [
    "And you can index into them:"
   ]
  },
  {
   "cell_type": "code",
   "execution_count": 9,
   "metadata": {},
   "outputs": [
    {
     "data": {
      "text/plain": [
       "('hi', 'i', 7)"
      ]
     },
     "execution_count": 9,
     "metadata": {},
     "output_type": "execute_result"
    }
   ],
   "source": [
    "lst[0], mystring[1], nums[2]"
   ]
  },
  {
   "cell_type": "markdown",
   "metadata": {},
   "source": [
    "What happens if we look at a dictionary"
   ]
  },
  {
   "cell_type": "code",
   "execution_count": 10,
   "metadata": {},
   "outputs": [
    {
     "name": "stdout",
     "output_type": "stream",
     "text": [
      "age 18\n",
      "name\n",
      "age\n",
      "gender\n"
     ]
    }
   ],
   "source": [
    "d = dict(   \n",
    "    name = 'Alice',\n",
    "    age  = 18,\n",
    "    gender = 'F'\n",
    ")\n",
    "print(\"age\", d['age'])\n",
    "for item in d:\n",
    "    print(item)"
   ]
  },
  {
   "cell_type": "markdown",
   "metadata": {},
   "source": [
    "We get the keys in some order (order is not guaranteed in dictionaries. Use an `OrderedDict` for that)"
   ]
  },
  {
   "cell_type": "code",
   "execution_count": 11,
   "metadata": {},
   "outputs": [
    {
     "data": {
      "text/plain": [
       "3"
      ]
     },
     "execution_count": 11,
     "metadata": {},
     "output_type": "execute_result"
    }
   ],
   "source": [
    "len(d)"
   ]
  },
  {
   "cell_type": "markdown",
   "metadata": {},
   "source": [
    "What about tuples?"
   ]
  },
  {
   "cell_type": "code",
   "execution_count": 12,
   "metadata": {},
   "outputs": [],
   "source": [
    "tup = (1, 2, 3)"
   ]
  },
  {
   "cell_type": "code",
   "execution_count": 13,
   "metadata": {},
   "outputs": [
    {
     "name": "stdout",
     "output_type": "stream",
     "text": [
      "1\n",
      "2\n",
      "3\n"
     ]
    }
   ],
   "source": [
    "for i in tup:\n",
    "    print(i)"
   ]
  },
  {
   "cell_type": "code",
   "execution_count": 14,
   "metadata": {},
   "outputs": [
    {
     "data": {
      "text/plain": [
       "3"
      ]
     },
     "execution_count": 14,
     "metadata": {},
     "output_type": "execute_result"
    }
   ],
   "source": [
    "len(tup)"
   ]
  },
  {
   "cell_type": "markdown",
   "metadata": {},
   "source": [
    "All off lists, tuples, dictionaries, and strings follow the *sequence protocol*. What if you wanted to write your own class that supports the protocol?\n",
    "\n",
    "### The sequence protocol, formally: Dunder methods\n",
    "\n",
    "Any class which wants to be a sequence, must support having a length, being iterated over, and being indexable. It turns out that in Python, this is ensured by having 2 special methods defined within the class. These are `__len__`, which calculates the length of the class. When you call `len` on an instance of this class, python will *dispatch* to this **dunder** (or double-underscore) method defined by the class. The second one is `__getitem__(self, i)__`, which tells you whats in the sequence at index i. By having this we can now loop over `i`s until the `len` to iterate over the *sequence*. Here is such an implementation:"
   ]
  },
  {
   "cell_type": "code",
   "execution_count": 15,
   "metadata": {},
   "outputs": [],
   "source": [
    "class Vector:\n",
    "    \n",
    "    def __init__(self, lst):\n",
    "        self.storage = lst\n",
    "        \n",
    "    def __len__(self):\n",
    "        return len(self.storage)\n",
    "    \n",
    "    def __getitem__(self, i):\n",
    "        return self.storage[i]\n",
    "\n"
   ]
  },
  {
   "cell_type": "markdown",
   "metadata": {},
   "source": [
    "This is not a particularly interesting implementation, it simply *delegates* the length calculation and indexing to the underlying list-based `self.storage` instance variable."
   ]
  },
  {
   "cell_type": "code",
   "execution_count": 16,
   "metadata": {},
   "outputs": [],
   "source": [
    "v = Vector([3, 4, 5, 6])"
   ]
  },
  {
   "cell_type": "code",
   "execution_count": 17,
   "metadata": {},
   "outputs": [
    {
     "data": {
      "text/plain": [
       "<__main__.Vector at 0x112966710>"
      ]
     },
     "execution_count": 17,
     "metadata": {},
     "output_type": "execute_result"
    }
   ],
   "source": [
    "v"
   ]
  },
  {
   "cell_type": "code",
   "execution_count": 18,
   "metadata": {},
   "outputs": [
    {
     "data": {
      "text/plain": [
       "4"
      ]
     },
     "execution_count": 18,
     "metadata": {},
     "output_type": "execute_result"
    }
   ],
   "source": [
    "v[1]"
   ]
  },
  {
   "cell_type": "code",
   "execution_count": 19,
   "metadata": {},
   "outputs": [
    {
     "name": "stdout",
     "output_type": "stream",
     "text": [
      "3\n",
      "4\n",
      "5\n",
      "6\n"
     ]
    }
   ],
   "source": [
    "for i in v:\n",
    "    print(i)"
   ]
  },
  {
   "cell_type": "markdown",
   "metadata": {},
   "source": [
    "But as you can see, it does show how easy it isnto behave like a sequence. This type of protocol/polymorphism is called *Duck Typing*, a term coined by Alex Martelli, which roughly means: If it quacks like a duck (sequence) it is a Duck (sequence)."
   ]
  },
  {
   "cell_type": "markdown",
   "metadata": {},
   "source": [
    "## Printing nicer"
   ]
  },
  {
   "cell_type": "code",
   "execution_count": 20,
   "metadata": {},
   "outputs": [
    {
     "data": {
      "text/plain": [
       "<__main__.Vector at 0x112966710>"
      ]
     },
     "execution_count": 20,
     "metadata": {},
     "output_type": "execute_result"
    }
   ],
   "source": [
    "v"
   ]
  },
  {
   "cell_type": "markdown",
   "metadata": {},
   "source": [
    "This is not a particularly useful printout. Lets fix this:"
   ]
  },
  {
   "cell_type": "code",
   "execution_count": 22,
   "metadata": {},
   "outputs": [],
   "source": [
    "class Vector:\n",
    "    \n",
    "    def __init__(self, lst):\n",
    "        self.storage = lst.copy()\n",
    "        \n",
    "    def __len__(self):\n",
    "        return len(self.storage)\n",
    "    \n",
    "    def __getitem__(self, i):\n",
    "        return self.storage[i]\n",
    "    \n",
    "    def __repr__(self):\n",
    "        return f\"Vector({self.storage})\"\n",
    "\n",
    "v = Vector([3, 4, 5, 6])"
   ]
  },
  {
   "cell_type": "code",
   "execution_count": 23,
   "metadata": {},
   "outputs": [
    {
     "data": {
      "text/plain": [
       "Vector([3, 4, 5, 6])"
      ]
     },
     "execution_count": 23,
     "metadata": {},
     "output_type": "execute_result"
    }
   ],
   "source": [
    "v"
   ]
  },
  {
   "cell_type": "markdown",
   "metadata": {},
   "source": [
    "Much better! Implementing `__repr__` lets us print our object in a human-readable way. We have used a format string or a f-string to do this. Its a wierd kind of string, with a \"f\" in front of it. Python keeps this \"one letter in front of string\" syntax for alternative strings such as f-strings (start with f), byte strings (startwith b), etc. \n",
    "\n",
    "In an f-string you can interpolate python variables if you enclose them in braces. Here we'll put in the full contents of self.storage. Terrible if this is a really long list but we'll let it be for now."
   ]
  }
 ],
 "metadata": {
  "kernelspec": {
   "display_name": "Python 3",
   "language": "python",
   "name": "python3"
  },
  "language_info": {
   "codemirror_mode": {
    "name": "ipython",
    "version": 3
   },
   "file_extension": ".py",
   "mimetype": "text/x-python",
   "name": "python",
   "nbconvert_exporter": "python",
   "pygments_lexer": "ipython3",
   "version": "3.6.8"
  }
 },
 "nbformat": 4,
 "nbformat_minor": 4
}
